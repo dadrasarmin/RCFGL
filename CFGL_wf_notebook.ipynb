{
 "cells": [
  {
   "cell_type": "markdown",
   "metadata": {},
   "source": [
    "# CFGL Workflow"
   ]
  },
  {
   "cell_type": "markdown",
   "metadata": {},
   "source": [
    "## Loading the required Modules\n",
    "\n",
    "We load three modules respectively incorporating the functions for FGL, CFGL and the ccomputation of screening matrix. "
   ]
  },
  {
   "cell_type": "code",
   "execution_count": null,
   "metadata": {},
   "outputs": [],
   "source": [
    "import os\n",
    "import numpy as np\n",
    "import pandas as pd\n",
    "\n",
    "os.chdir(\"/Users/seals/Documents/Github/RCFGL/Python_functions\")\n",
    "import ADMM_py_function_new as AP\n",
    "\n",
    "os.chdir(\"/Users/seals/Documents/Github/RCFGL/Python_functions\")\n",
    "import CFGL_ADMM as CFGL_AP\n",
    "\n",
    "os.chdir(\"/Users/seals/Documents/Github/RCFGL/Python_functions\")\n",
    "import get_screening as scr"
   ]
  },
  {
   "cell_type": "code",
   "execution_count": null,
   "metadata": {},
   "outputs": [],
   "source": []
  }
 ],
 "metadata": {
  "kernelspec": {
   "display_name": "Python 3 (Spyder)",
   "language": "python3",
   "name": "python3"
  },
  "language_info": {
   "codemirror_mode": {
    "name": "ipython",
    "version": 3
   },
   "file_extension": ".py",
   "mimetype": "text/x-python",
   "name": "python",
   "nbconvert_exporter": "python",
   "pygments_lexer": "ipython3",
   "version": "3.8.5"
  }
 },
 "nbformat": 4,
 "nbformat_minor": 4
}
