{
 "cells": [
  {
   "cell_type": "markdown",
   "metadata": {},
   "source": [
    "# CFGL Workflow"
   ]
  },
  {
   "cell_type": "markdown",
   "metadata": {},
   "source": [
    "### Loading the required Modules\n",
    "\n",
    "We load three modules respectively incorporating the functions for FGL, CFGL and the computation of screening matrices. "
   ]
  },
  {
   "cell_type": "code",
   "execution_count": 3,
   "metadata": {},
   "outputs": [],
   "source": [
    "import os\n",
    "import numpy as np\n",
    "import pandas as pd\n",
    "\n",
    "os.chdir(\"/Users/seals/Documents/Github/RCFGL/Python_functions\")\n",
    "import ADMM_py_function_new as AP\n",
    "\n",
    "os.chdir(\"/Users/seals/Documents/Github/RCFGL/Python_functions\")\n",
    "import CFGL_ADMM as CFGL_AP\n",
    "\n",
    "os.chdir(\"/Users/seals/Documents/Github/RCFGL/Python_functions\")\n",
    "import get_screening as scr"
   ]
  },
  {
   "cell_type": "markdown",
   "metadata": {},
   "source": [
    "### Loading the datasets\n",
    "\n",
    "In the following example, we consider three different datasets corresponding to three different brain regions of rats. It is required that all the regions have the same number of genes ($p$) but the sample size per region ($n_i$) can vary. \n"
   ]
  },
  {
   "cell_type": "code",
   "execution_count": 4,
   "metadata": {},
   "outputs": [],
   "source": [
    "os.chdir(\"/Users/seals/Desktop/CSPH/CFGL/PyModule\")\n",
    "\n",
    "Acbc = pd.read_csv('/Users/seals/Desktop/CSPH/CFGL/MATLAB_data/500_Acbc_better.csv');\n",
    "Acbc = Acbc.iloc[:,1:Acbc.shape[1]]\n",
    "\n",
    "IL = pd.read_csv('/Users/seals/Desktop/CSPH/CFGL/MATLAB_data/500_IL_better.csv');\n",
    "IL = IL.iloc[:,1:IL.shape[1]]\n",
    "\n",
    "LHB = pd.read_csv('/Users/seals/Desktop/CSPH/CFGL/MATLAB_data/500_LHB_better.csv');\n",
    "LHB = LHB.iloc[:,1:LHB.shape[1]]"
   ]
  },
  {
   "cell_type": "markdown",
   "metadata": {},
   "source": [
    "### Setting the parameters\n",
    "\n",
    "Next, we specify the values of some parameters like the number of genes ($p$), penalty terms ($\\lambda_1$, $\\lambda_2$), the $\\rho$ parameter in ADMM algorithm, the maximumn number of iterations (ADMMmaxiter), convergence criteria (admmtol, difftol). \n",
    "\n"
   ]
  },
  {
   "cell_type": "code",
   "execution_count": 5,
   "metadata": {},
   "outputs": [],
   "source": [
    "p = Acbc.shape[1];\n",
    "lambda1 = 0.01\n",
    "lambda2 = 0.05;\n",
    "rho = 1;\n",
    "ADMMmaxiter = 250;\n",
    "admmtol = 1e-4;\n",
    "difftol = 1e-4;\n",
    "params = []\n",
    "params.extend((lambda1, lambda2, rho, p, ADMMmaxiter, admmtol, difftol))"
   ]
  },
  {
   "cell_type": "markdown",
   "metadata": {},
   "source": [
    "### Final formatting of the data\n",
    "\n",
    "We append the three different datasets together to create a combined list (A). K denotes the number of categories (datasets) we have (K = 3 in our case). "
   ]
  },
  {
   "cell_type": "code",
   "execution_count": null,
   "metadata": {},
   "outputs": [],
   "source": [
    "A = []\n",
    "A.append(Acbc);\n",
    "A.append(IL);\n",
    "A.append(LHB);\n",
    "\n",
    "K = len(A);"
   ]
  },
  {
   "cell_type": "markdown",
   "metadata": {},
   "source": [
    "### Computing Sample Covariance Matrices\n",
    "\n",
    "We compute the sample covariance matrices corresponding to the different categories and store them in a 3d-array named S. We also compute a diagonal 3d-array named P which has inverse of the digaonals of the array S. Both, S and P are used next in fitting the FGL and CFGL models."
   ]
  },
  {
   "cell_type": "code",
   "execution_count": null,
   "metadata": {},
   "outputs": [],
   "source": [
    "\n",
    "S = np.zeros((p,p,K));\n",
    "P = np.zeros((p,p,K));\n",
    "n = np.zeros(K);\n",
    "\n",
    "for k in np.array(range(K)):\n",
    " n[k] = A[k].shape[0];   \n",
    " S[:,:,k] = np.dot(np.cov((A[k]).T),(n[k]-1)/n[k]);\n",
    " P[:,:,k] = np.diag(1/np.diag(S[:,:,k]));"
   ]
  },
  {
   "cell_type": "markdown",
   "metadata": {},
   "source": [
    "### FGL ADMM\n",
    "\n",
    "We first fit the simple FGL model. The estimated theta matrices corresponding to different categories are stored in an array named P_ADMM. Converegence details are stored in an array named funVal_ADMM."
   ]
  },
  {
   "cell_type": "code",
   "execution_count": null,
   "metadata": {},
   "outputs": [],
   "source": [
    "\n",
    "[P_ADMM, funVal_ADMM] = AP.FGL_ADMM(params, S, P, diff_tol = False)\n"
   ]
  },
  {
   "cell_type": "markdown",
   "metadata": {},
   "source": [
    "### CFGL ADMM\n",
    "\n",
    "#### Computing the weight matrices\n",
    "\n",
    "We compute (K-1) many weight matrices (stored in array Weight[k]) corresponding to category pair (k, k+1) for k = 1,..., (K-1). The $ij-th$ element of the matrix Weight[k] can only be 1 or 0.  We also construct two tuples: which_K (stores $ij$ locations where all the matrices Weight[k], for 1,..., (K-1) have value 1) and which_not_K (stores $ij$ locations where at least one of the matrices Weight[k] does not have value 1)."
   ]
  },
  {
   "cell_type": "code",
   "execution_count": null,
   "metadata": {},
   "outputs": [],
   "source": [
    "Weight = np.zeros((K-1,p,p))\n",
    "\n",
    "for k in range(K-1):\n",
    "    Weight[k] = scr.get_scr_mat(np.array(A[k]),np.array(A[k+1]))\n",
    "\n",
    "Sum_Weight = np.sum(Weight,axis = 0)\n",
    "lower_indices = np.tril_indices(p,k = -1)\n",
    "Sum_Weight[lower_indices] = -1\n",
    "which_K = np.where(Sum_Weight==K-1)\n",
    "which_not_K = np.where((Sum_Weight!=K-1) & (Sum_Weight!=-1))"
   ]
  },
  {
   "cell_type": "markdown",
   "metadata": {},
   "source": [
    "#### Fitting CFGL\n",
    "\n",
    "Finally we fit the CFGL model. The estimated theta matrices corresponding to different categories are stored in an array named P_CFGL_ADMM. Converegence details are stored in an array named funVal_CFGL_ADMM. "
   ]
  },
  {
   "cell_type": "code",
   "execution_count": null,
   "metadata": {},
   "outputs": [],
   "source": [
    "\n",
    "[P_CFGL_ADMM, funVal] = CFGL_AP.CFGL_ADMM(params, S, P, Weight, which_K, which_not_K, diff_tol = False)\n"
   ]
  }
 ],
 "metadata": {
  "kernelspec": {
   "display_name": "Python 3 (Spyder)",
   "language": "python3",
   "name": "python3"
  },
  "language_info": {
   "codemirror_mode": {
    "name": "ipython",
    "version": 3
   },
   "file_extension": ".py",
   "mimetype": "text/x-python",
   "name": "python",
   "nbconvert_exporter": "python",
   "pygments_lexer": "ipython3",
   "version": "3.8.5"
  }
 },
 "nbformat": 4,
 "nbformat_minor": 4
}
